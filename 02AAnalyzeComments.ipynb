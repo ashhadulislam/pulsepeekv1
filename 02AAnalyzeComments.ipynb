{
 "cells": [
  {
   "cell_type": "code",
   "execution_count": 24,
   "id": "09772edf-e98a-4d6b-99b7-a7e479576e2c",
   "metadata": {},
   "outputs": [],
   "source": [
    "import os\n",
    "import re\n",
    "import json\n",
    "import time\n",
    "import pickle\n",
    "import pandas as pd\n",
    "from openai import OpenAI\n",
    "\n",
    "\n",
    "API_KEY = 'sk-bedceae2ceba437f944db22706354095'"
   ]
  },
  {
   "cell_type": "code",
   "execution_count": 33,
   "id": "a721ebad-8f9e-46ae-a6bb-f0bdc2719e49",
   "metadata": {},
   "outputs": [],
   "source": [
    "\n",
    "\n",
    "def to_process(video_id, reference_file_path):\n",
    "    if not os.path.exists(reference_file_path):\n",
    "        return True\n",
    "    df = pd.read_csv(reference_file_path)\n",
    "    print(df['id'].astype(str).values)\n",
    "    return video_id not in df['id'].astype(str).values\n",
    "\n"
   ]
  },
  {
   "cell_type": "code",
   "execution_count": 34,
   "id": "e95c1f00-8e1f-4dda-bbb4-6e4aafa99a53",
   "metadata": {},
   "outputs": [],
   "source": [
    "\n",
    "def summarize_comments(api_client, comments, title, uploader_id, video_id):\n",
    "    top_comments = [c['text'] for c in comments if not c['is_reply']][:max(1, int(0.5 * len(comments)))]\n",
    "    \n",
    "    print(f'number of comments to be considered={len(top_comments)}')\n",
    "    user_prompt = '\\n'.join(top_comments)\n",
    "    system_prompt = \"\"\"\n",
    "    The user will provide a list of YouTube comments. Please analyze all the comments together and generate a single, structured JSON object summarizing the overall qualitative dynamics.\n",
    "    \n",
    "    EXAMPLE INPUT:\n",
    "    [\"Great job! This video really opened my eyes.\", \"What a biased take. Shameful.\", \"😂😂 you're so clueless it's funny.\", \"Pakistan zindabad!\", \"Link to giveaway 👉 http://spamlink\"]\n",
    "    \n",
    "    EXAMPLE JSON OUTPUT:\n",
    "    {\n",
    "      \"overall_sentiment_distribution\": {\"positive\": 1, \"neutral\": 1, \"negative\": 3},\n",
    "      \"dominant_emotions\": [\"anger\", \"sarcasm\", \"joy\"],\n",
    "      \"toxic_comment_count\": 2,\n",
    "      \"controversy_score\": 0.75,\n",
    "      \"key_topics\": [\"bias in media\", \"nationalism\", \"truth and misinformation\"],\n",
    "      \"frequent_bias_or_group_mentions\": [\"Pakistan\", \"India\", \"YouTube creators\"],\n",
    "      \"sarcasm_detected\": true,\n",
    "      \"languages_detected\": [\"English\", \"Urdu\"],\n",
    "      \"spam_comment_count\": 1,\n",
    "      \"summary\": \"The comment section is emotionally charged with a mix of national pride, strong criticism, and sarcasm. There's significant polarization, and a moderate amount of toxicity and spam.\"\n",
    "    }\n",
    "    \"\"\"\n",
    "    response = api_client.chat.completions.create(\n",
    "        model=\"deepseek-chat\",\n",
    "        messages=[\n",
    "            {\"role\": \"system\", \"content\": system_prompt},\n",
    "            {\"role\": \"user\", \"content\": user_prompt}\n",
    "        ],\n",
    "        response_format={'type': 'json_object'}\n",
    "    )\n",
    "\n",
    "    \n",
    "    summary = json.loads(response.choices[0].message.content)\n",
    "    summary['title'] = title\n",
    "    summary['uploader_id'] = uploader_id\n",
    "\n",
    "    return summary"
   ]
  },
  {
   "cell_type": "code",
   "execution_count": 27,
   "id": "513d365d-3581-47e0-bf48-73715d1d2e3b",
   "metadata": {},
   "outputs": [],
   "source": [
    "\n"
   ]
  },
  {
   "cell_type": "code",
   "execution_count": null,
   "id": "bf910a93-da6b-4fc9-9acc-b80008457e86",
   "metadata": {},
   "outputs": [
    {
     "name": "stdout",
     "output_type": "stream",
     "text": [
      "['cwOPw3fBMs4' 'dua91-ntjgU' 'M88UpaT_iio']\n",
      "⏩ Skipping already processed video ID: dua91-ntjgU\n",
      "['cwOPw3fBMs4' 'dua91-ntjgU' 'M88UpaT_iio']\n",
      "⏩ Skipping already processed video ID: M88UpaT_iio\n",
      "['cwOPw3fBMs4' 'dua91-ntjgU' 'M88UpaT_iio']\n",
      "number of comments to be considered=14\n",
      "['cwOPw3fBMs4' 'dua91-ntjgU' 'M88UpaT_iio' 'yn-IiJODZLc']\n",
      "⏩ Skipping already processed video ID: cwOPw3fBMs4\n",
      "['cwOPw3fBMs4' 'dua91-ntjgU' 'M88UpaT_iio' 'yn-IiJODZLc']\n",
      "number of comments to be considered=25\n",
      "['cwOPw3fBMs4' 'dua91-ntjgU' 'M88UpaT_iio' 'yn-IiJODZLc' '6DTys4OCPhs']\n",
      "number of comments to be considered=1\n",
      "['cwOPw3fBMs4' 'dua91-ntjgU' 'M88UpaT_iio' 'yn-IiJODZLc' '6DTys4OCPhs'\n",
      " 'mGjeWrERxPg']\n",
      "number of comments to be considered=33\n",
      "['cwOPw3fBMs4' 'dua91-ntjgU' 'M88UpaT_iio' 'yn-IiJODZLc' '6DTys4OCPhs'\n",
      " 'mGjeWrERxPg' 'x55BVjUo77U']\n",
      "number of comments to be considered=42\n",
      "['cwOPw3fBMs4' 'dua91-ntjgU' 'M88UpaT_iio' 'yn-IiJODZLc' '6DTys4OCPhs'\n",
      " 'mGjeWrERxPg' 'x55BVjUo77U' 'wvBLz5ViSvs']\n",
      "number of comments to be considered=2\n",
      "['cwOPw3fBMs4' 'dua91-ntjgU' 'M88UpaT_iio' 'yn-IiJODZLc' '6DTys4OCPhs'\n",
      " 'mGjeWrERxPg' 'x55BVjUo77U' 'wvBLz5ViSvs' 'APA0htT-AV0']\n",
      "number of comments to be considered=37\n"
     ]
    }
   ],
   "source": [
    "PROCESSED_COMMENTS_DIR = 'processed_comments'\n",
    "df_comments=pd.read_csv(f'{PROCESSED_COMMENTS_DIR}/comments.csv')\n",
    "\n",
    "df_comments['comments'] = df_comments['comments'].apply(json.loads)\n",
    "\n",
    "\n",
    "\n",
    "ANALYZED_COMMENTS_DIR = 'analyzed_comments'\n",
    "analyzed_comments_file_path = f'{ANALYZED_COMMENTS_DIR}/analyzed_comments.csv'\n",
    "\n",
    "\n",
    "client = OpenAI(api_key=API_KEY, base_url=\"https://api.deepseek.com\")\n",
    "data_res = []\n",
    "for index, row in df_comments.iterrows():\n",
    "    try:\n",
    "        #print(row)\n",
    "        if not to_process(row['id'],analyzed_comments_file_path):\n",
    "            print(f\"⏩ Skipping already processed video ID: {row['id']}\")\n",
    "            continue\n",
    "        analysis=summarize_comments(client, row['comments'], row['title'] ,row['creator_id'], row['id'])\n",
    "        data_res.append({\n",
    "                'creator_id': row['creator_id'],\n",
    "                'id': row['id'],\n",
    "                'title': row['title'],\n",
    "                'timestamp': str(time.time()),\n",
    "                'analysis': json.dumps(analysis)\n",
    "            })\n",
    "        # Append to CSV immediately to avoid reprocessing on crash\n",
    "        df = pd.DataFrame(data_res)\n",
    "        if os.path.exists(analyzed_comments_file_path):\n",
    "            df.to_csv(analyzed_comments_file_path, mode='a', index=False, header=False)\n",
    "        else:\n",
    "            df.to_csv(analyzed_comments_file_path, index=False)\n",
    "        data_res.clear()        \n",
    "    except Exception as e:\n",
    "        print(f\"❌ Failed to process video ID: {row['id']}\")\n",
    "        print(e)\n",
    "    \n",
    "    "
   ]
  },
  {
   "cell_type": "code",
   "execution_count": 39,
   "id": "0aac7c7b-4959-417f-bd50-4c2090a3d7ad",
   "metadata": {},
   "outputs": [
    {
     "data": {
      "text/plain": [
       "{'overall_sentiment_distribution': {'positive': 10,\n",
       "  'neutral': 2,\n",
       "  'negative': 8},\n",
       " 'dominant_emotions': ['anger', 'joy', 'sarcasm'],\n",
       " 'toxic_comment_count': 5,\n",
       " 'controversy_score': 0.85,\n",
       " 'key_topics': ['Free Palestine',\n",
       "  'Irish support for Palestine',\n",
       "  'criticism of Israel',\n",
       "  'Islam and peace',\n",
       "  'nationalism'],\n",
       " 'frequent_bias_or_group_mentions': ['Irish',\n",
       "  'Palestinians',\n",
       "  'Israel',\n",
       "  'Muslims',\n",
       "  'Jews'],\n",
       " 'sarcasm_detected': True,\n",
       " 'languages_detected': ['English', 'French', 'Arabic'],\n",
       " 'spam_comment_count': 0,\n",
       " 'summary': 'The comment section is highly polarized with strong support for Palestine and Irish solidarity, alongside significant criticism of Israel and accusations of bias. Emotions range from joy and respect to anger and sarcasm, with a notable presence of toxic comments. The discussion is deeply entrenched in political and religious themes, reflecting a high level of controversy.',\n",
       " 'title': 'Irishman Gets Revenge on Israeli Soldier',\n",
       " 'uploader_id': '@smiletojannah'}"
      ]
     },
     "execution_count": 39,
     "metadata": {},
     "output_type": "execute_result"
    }
   ],
   "source": [
    "analysis"
   ]
  },
  {
   "cell_type": "code",
   "execution_count": 40,
   "id": "0faea3f3-95a6-41a7-9cc9-4519957d580a",
   "metadata": {},
   "outputs": [
    {
     "name": "stdout",
     "output_type": "stream",
     "text": [
      "['cwOPw3fBMs4' 'dua91-ntjgU']\n"
     ]
    },
    {
     "data": {
      "text/plain": [
       "False"
      ]
     },
     "execution_count": 40,
     "metadata": {},
     "output_type": "execute_result"
    }
   ],
   "source": [
    "to_process(row['id'],analyzed_comments_file_path)"
   ]
  },
  {
   "cell_type": "code",
   "execution_count": null,
   "id": "a929d01c-83fb-4a56-966c-7a4912ba6c01",
   "metadata": {},
   "outputs": [],
   "source": []
  }
 ],
 "metadata": {
  "kernelspec": {
   "display_name": "py310k",
   "language": "python",
   "name": "py310k"
  },
  "language_info": {
   "codemirror_mode": {
    "name": "ipython",
    "version": 3
   },
   "file_extension": ".py",
   "mimetype": "text/x-python",
   "name": "python",
   "nbconvert_exporter": "python",
   "pygments_lexer": "ipython3",
   "version": "3.10.16"
  }
 },
 "nbformat": 4,
 "nbformat_minor": 5
}
