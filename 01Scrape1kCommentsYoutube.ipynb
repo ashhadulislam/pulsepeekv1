{
 "cells": [
  {
   "cell_type": "code",
   "execution_count": null,
   "id": "6fe03f60-3039-4d05-bf67-9e76c413b503",
   "metadata": {},
   "outputs": [],
   "source": [
    "#from selenium.webdriver.common.keys import Keys\n",
    "#from selenium.webdriver.common.by import By\n",
    "#from selenium.webdriver.support.ui import WebDriverWait\n",
    "#from selenium.webdriver.support import expected_conditions as EC\n",
    "#\n",
    "#from selenium.webdriver.common.action_chains import ActionChains\n",
    "#from selenium.webdriver.common.by import By\n",
    "#from selenium.webdriver.support.ui import WebDriverWait\n",
    "#from selenium.webdriver.support import expected_conditions as EC\n",
    "#import pickle\n",
    "#\n",
    "#import os\n",
    "#import time\n",
    "#import pandas as pd\n",
    "#from selenium.webdriver.common.by import By\n",
    "#from selenium.webdriver.support.ui import WebDriverWait\n",
    "#from selenium.webdriver.support import expected_conditions as EC\n",
    "#\n",
    "#from selenium import webdriver\n",
    "#from selenium.webdriver.firefox.options import Options\n",
    "#from selenium.webdriver.common.by import By\n",
    "#from selenium.webdriver.support.ui import WebDriverWait\n",
    "#from selenium.webdriver.support import expected_conditions as EC\n",
    "#import time\n",
    "#import pandas as pd\n",
    "#\n",
    "#from selenium.common.exceptions import TimeoutException, NoSuchElementException, ElementClickInterceptedException"
   ]
  },
  {
   "cell_type": "code",
   "execution_count": 1,
   "id": "cc218daf-26f1-49ef-8f5d-ec4e04fde8e7",
   "metadata": {},
   "outputs": [],
   "source": [
    "import pandas as pd\n",
    "import os\n",
    "import pickle\n",
    "import time\n",
    "import json\n",
    "from collections import defaultdict\n",
    "from openai import OpenAI\n",
    "from datetime import datetime\n",
    "import subprocess\n",
    "\n",
    "timestamp = datetime.now().strftime(\"%Y%m%d_%H%M%S\")\n"
   ]
  },
  {
   "cell_type": "code",
   "execution_count": 4,
   "id": "1b7219b9-49df-4761-b16c-642959d88544",
   "metadata": {},
   "outputs": [],
   "source": [
    "\n",
    "#https://www.youtube.com/watch?v=dCHh2HacOYk\n",
    "# Trump MELTDOWN on Walmart + Saudi news\n",
    "# 0UtHedAXIkA\n",
    "# Indians Finally Admit Pakistan Won\n",
    "\n",
    "# https://www.youtube.com/watch?v=xJ_omX4Ejqw\n",
    "# India Beat Pakistan's Air Defense\n",
    "\n",
    "# https://www.youtube.com/watch?v=7tqYgfhCwb4&t=154s&pp=ygUOc21pbGUgMiBqYW5uYWg%3D\n",
    "# Indians Declare WAR on Aamir Khan\n"
   ]
  },
  {
   "cell_type": "markdown",
   "id": "49532e41-88a0-4cc0-8778-7c920ff59c68",
   "metadata": {},
   "source": [
    "### below is to run a loop and get all"
   ]
  },
  {
   "cell_type": "code",
   "execution_count": 9,
   "id": "ac8d5c04-55ad-4935-98f3-0fafc67db4ab",
   "metadata": {},
   "outputs": [
    {
     "name": "stdout",
     "output_type": "stream",
     "text": [
      "Joe Rogan Mocks Pro-Israeli Douglas Murray @smiletojannah\n"
     ]
    }
   ],
   "source": [
    "\n",
    "\n",
    "\n",
    "# Load your JSON file\n",
    "with open(f\"comments_scraped/{video_id}_{timestamp}.info.json\", \"r\", encoding=\"utf-8\") as f:\n",
    "    all_data=json.load(f)        \n",
    "    raw_comments = all_data['comments']\n",
    "    title=all_data['title']\n",
    "    uploader_id=all_data['uploader_id']\n",
    "\n",
    "print(title,uploader_id)\n",
    "\n"
   ]
  },
  {
   "cell_type": "code",
   "execution_count": null,
   "id": "cd09c60f-ba3c-4098-850b-470954a51144",
   "metadata": {},
   "outputs": [],
   "source": []
  },
  {
   "cell_type": "code",
   "execution_count": null,
   "id": "c5d16538-9896-4102-a0d4-867c8c6a9d34",
   "metadata": {
    "scrolled": true
   },
   "outputs": [],
   "source": [
    "# Group comments by ID and organize replies under their parent\n",
    "comment_dict = {}\n",
    "replies_grouped = defaultdict(list)\n",
    "\n",
    "# First pass to separate top-level and replies\n",
    "for comment in raw_comments:\n",
    "    print(comment)\n",
    "    if comment.get(\"parent\") and comment[\"parent\"] != \"root\":\n",
    "        replies_grouped[comment[\"parent\"]].append({\n",
    "            \"id\": comment[\"id\"],\n",
    "            \"text\": comment[\"text\"],\n",
    "            \"author\": comment[\"author\"],\n",
    "            \"likes\": comment[\"like_count\"],\n",
    "            \"timestamp\": comment[\"timestamp\"]\n",
    "        })\n",
    "    else:\n",
    "        comment_dict[comment[\"id\"]] = {\n",
    "            \"id\": comment[\"id\"],\n",
    "            \"text\": comment[\"text\"],\n",
    "            \"author\": comment[\"author\"],\n",
    "            \"likes\": comment[\"like_count\"],\n",
    "            \"timestamp\": comment[\"timestamp\"],\n",
    "            \"replies\": []\n",
    "        }\n",
    "\n",
    "# Second pass to attach replies to top-level comments\n",
    "for parent_id, replies in replies_grouped.items():\n",
    "    if parent_id in comment_dict:\n",
    "        comment_dict[parent_id][\"replies\"] = replies\n",
    "\n",
    "# Convert dict to list\n",
    "structured_comments = list(comment_dict.values())\n",
    "\n",
    "# Print a few samples\n",
    "for comment in structured_comments[:3]:  # limit to 3 for brevity\n",
    "    print(f\"Comment by {comment['author']}: {comment['text']}\")\n",
    "    for reply in comment[\"replies\"]:\n",
    "        print(f\"  ↳ Reply by {reply['author']}: {reply['text']}\")\n",
    "    print(\"-\" * 60)"
   ]
  },
  {
   "cell_type": "code",
   "execution_count": null,
   "id": "c2a93a48-83cb-4b43-96a2-184745367355",
   "metadata": {},
   "outputs": [],
   "source": [
    "base_filename=f'{video_id}'\n",
    "rows = []\n",
    "for comment in structured_comments:\n",
    "    rows.append({\n",
    "        \"id\": comment[\"id\"],\n",
    "        \"text\": comment[\"text\"],\n",
    "        \"author\": comment[\"author\"],\n",
    "        \"likes\": comment[\"likes\"],\n",
    "        \"timestamp\": comment[\"timestamp\"],\n",
    "        \"is_reply\": False,\n",
    "        \"parent_id\": None\n",
    "    })\n",
    "    for reply in comment.get(\"replies\", []):\n",
    "        rows.append({\n",
    "            \"id\": reply[\"id\"],\n",
    "            \"text\": reply[\"text\"],\n",
    "            \"author\": reply[\"author\"],\n",
    "            \"likes\": reply[\"likes\"],\n",
    "            \"timestamp\": reply[\"timestamp\"],\n",
    "            \"is_reply\": True,\n",
    "            \"parent_id\": comment[\"id\"]\n",
    "        })\n",
    "\n",
    "# Create a DataFrame\n",
    "df = pd.DataFrame(rows)\n",
    "\n"
   ]
  },
  {
   "cell_type": "code",
   "execution_count": null,
   "id": "23d78989-1779-4c61-9cc7-378b47dcf590",
   "metadata": {},
   "outputs": [],
   "source": [
    "df"
   ]
  },
  {
   "cell_type": "code",
   "execution_count": null,
   "id": "34d4bc55-f203-4cfa-bd3e-8139b827c527",
   "metadata": {},
   "outputs": [],
   "source": [
    "df.sort_values(by=['likes'],inplace=True,ascending=False)"
   ]
  },
  {
   "cell_type": "code",
   "execution_count": null,
   "id": "76e94c34-74ca-4112-9814-92ffbca9d157",
   "metadata": {},
   "outputs": [],
   "source": [
    "# Export to CSV\n",
    "df.to_csv(f\"{base_filename}.csv\", index=False)\n",
    "\n",
    "# Export to Pickle\n",
    "with open(f\"{base_filename}.pkl\", \"wb\") as f:\n",
    "    pickle.dump(structured_comments, f)\n",
    "\n",
    "print(\"Export completed: CSV and PKL saved.\")\n"
   ]
  },
  {
   "cell_type": "code",
   "execution_count": null,
   "id": "64e7bf50-6137-4a4f-82b8-697fde195b08",
   "metadata": {},
   "outputs": [],
   "source": [
    "df_comment1=df[df['is_reply']==False]"
   ]
  },
  {
   "cell_type": "code",
   "execution_count": null,
   "id": "b8337b06-f240-46d4-a89b-a03e693e7df3",
   "metadata": {},
   "outputs": [],
   "source": [
    "df_comment1"
   ]
  },
  {
   "cell_type": "code",
   "execution_count": null,
   "id": "11e118b1-5230-4be5-a284-8c0ba564caff",
   "metadata": {},
   "outputs": [],
   "source": [
    "comment1_list=list(df_comment1['text'])"
   ]
  },
  {
   "cell_type": "code",
   "execution_count": null,
   "id": "d44bd3e2-e128-477e-b941-3ebe8eb99711",
   "metadata": {},
   "outputs": [],
   "source": [
    "print(comment1_list[:2])"
   ]
  },
  {
   "cell_type": "code",
   "execution_count": null,
   "id": "cc3b4b81-64ef-4559-865a-141004b4fece",
   "metadata": {},
   "outputs": [],
   "source": [
    "k=5\n",
    "topkcomments_list=comment1_list[:int(0.05*len(comment1_list))]"
   ]
  },
  {
   "cell_type": "code",
   "execution_count": null,
   "id": "756397d4-0771-4c51-9e1a-cce150763e35",
   "metadata": {},
   "outputs": [],
   "source": [
    "len(topkcomments_list),len(comment1_list)"
   ]
  },
  {
   "cell_type": "code",
   "execution_count": null,
   "id": "803cf347-a744-4125-9479-04ea744b1a23",
   "metadata": {},
   "outputs": [],
   "source": [
    "topkcomments_str='\\n'.join(topkcomments_list)"
   ]
  },
  {
   "cell_type": "code",
   "execution_count": null,
   "id": "a480838e-d32a-42d4-8f30-44e847f09318",
   "metadata": {},
   "outputs": [],
   "source": [
    "api_key='sk-bedceae2ceba437f944db22706354095'"
   ]
  },
  {
   "cell_type": "code",
   "execution_count": null,
   "id": "b5df4eb3-2aed-4118-9b5b-db27b9457a86",
   "metadata": {},
   "outputs": [],
   "source": [
    "client = OpenAI(\n",
    "    api_key=api_key,\n",
    "    base_url=\"https://api.deepseek.com\",\n",
    ")\n",
    "\n",
    "system_prompt = \"\"\"\n",
    "The user will provide a list of YouTube comments. Please analyze all the comments together and generate a single, structured JSON object summarizing the overall qualitative dynamics.\n",
    "\n",
    "EXAMPLE INPUT:\n",
    "[\"Great job! This video really opened my eyes.\", \"What a biased take. Shameful.\", \"😂😂 you're so clueless it's funny.\", \"Pakistan zindabad!\", \"Link to giveaway 👉 http://spamlink\"]\n",
    "\n",
    "EXAMPLE JSON OUTPUT:\n",
    "{\n",
    "  \"overall_sentiment_distribution\": {\n",
    "    \"positive\": 1,\n",
    "    \"neutral\": 1,\n",
    "    \"negative\": 3\n",
    "  },\n",
    "  \"dominant_emotions\": [\"anger\", \"sarcasm\", \"joy\"],\n",
    "  \"toxic_comment_count\": 2,\n",
    "  \"controversy_score\": 0.75,\n",
    "  \"key_topics\": [\"bias in media\", \"nationalism\", \"truth and misinformation\"],\n",
    "  \"frequent_bias_or_group_mentions\": [\"Pakistan\", \"India\", \"YouTube creators\"],\n",
    "  \"sarcasm_detected\": true,\n",
    "  \"languages_detected\": [\"English\", \"Urdu\"],\n",
    "  \"spam_comment_count\": 1,\n",
    "  \"summary\": \"The comment section is emotionally charged with a mix of national pride, strong criticism, and sarcasm. There's significant polarization, and a moderate amount of toxicity and spam. These patterns suggest the topic is controversial and has drawn viewers from diverse backgrounds with opposing views.\"\n",
    "}\n",
    "\n",
    "Please return the analysis in this format. Focus on producing insightful, unbiased feedback that helps a content creator understand audience sentiment, engagement, controversy, and risks.\n",
    "\"\"\"\n",
    "\n",
    "user_prompt = topkcomments_str\n",
    "\n",
    "messages = [{\"role\": \"system\", \"content\": system_prompt},\n",
    "            {\"role\": \"user\", \"content\": user_prompt}]\n",
    "\n",
    "response = client.chat.completions.create(\n",
    "    model=\"deepseek-chat\",\n",
    "    messages=messages,\n",
    "    response_format={\n",
    "        'type': 'json_object'\n",
    "    }\n",
    ")\n",
    "\n",
    "print(json.loads(response.choices[0].message.content))"
   ]
  },
  {
   "cell_type": "code",
   "execution_count": null,
   "id": "770238ee-b43b-4f7c-a71d-699f548ec0e1",
   "metadata": {},
   "outputs": [],
   "source": [
    "llm_analysis=json.loads(response.choices[0].message.content)\n",
    "llm_analysis['title']=title\n",
    "llm_analysis['uploader_id']=uploader_id\n",
    "\n"
   ]
  },
  {
   "cell_type": "code",
   "execution_count": null,
   "id": "123ccf8c-f15f-4f07-bde5-a7137e29d86a",
   "metadata": {},
   "outputs": [],
   "source": [
    "\n",
    "# Construct the filename\n",
    "filename = f\"insights/{video_id}_insight1_{timestamp}.json\"\n",
    "# Save to JSON file\n",
    "with open(filename, \"w\", encoding=\"utf-8\") as f:\n",
    "    json.dump(llm_analysis, f, ensure_ascii=False, indent=2)\n",
    "print(f\"Saved analysis to {filename}\")    "
   ]
  },
  {
   "cell_type": "code",
   "execution_count": null,
   "id": "a6f2f6c1-8099-4b50-a354-3dbee071fb03",
   "metadata": {},
   "outputs": [],
   "source": []
  },
  {
   "cell_type": "code",
   "execution_count": null,
   "id": "e5c31534-b166-42b5-9467-941ce89ace76",
   "metadata": {},
   "outputs": [],
   "source": []
  },
  {
   "cell_type": "code",
   "execution_count": null,
   "id": "c4c13164-69a3-491f-b377-4b04c7b8f864",
   "metadata": {},
   "outputs": [],
   "source": []
  },
  {
   "cell_type": "code",
   "execution_count": null,
   "id": "b73b5506-8795-40e6-90c5-115f64bab22c",
   "metadata": {},
   "outputs": [],
   "source": []
  }
 ],
 "metadata": {
  "kernelspec": {
   "display_name": "py310k",
   "language": "python",
   "name": "py310k"
  },
  "language_info": {
   "codemirror_mode": {
    "name": "ipython",
    "version": 3
   },
   "file_extension": ".py",
   "mimetype": "text/x-python",
   "name": "python",
   "nbconvert_exporter": "python",
   "pygments_lexer": "ipython3",
   "version": "3.10.16"
  }
 },
 "nbformat": 4,
 "nbformat_minor": 5
}
