{
 "cells": [
  {
   "cell_type": "code",
   "execution_count": null,
   "id": "13f22a50-65ca-4ffc-947d-8d8b616a568f",
   "metadata": {},
   "outputs": [],
   "source": [
    "import undetected_chromedriver as uc\n",
    "import os\n",
    "import os\n",
    "import json\n",
    "from selenium import webdriver\n",
    "from selenium.webdriver.common.by import By\n",
    "import time\n",
    "from rapidfuzz import fuzz  # Make sure to install with: pip install rapidfuzz\n",
    "from selenium.webdriver.common.by import By\n",
    "from selenium.common.exceptions import NoSuchElementException\n",
    "import shutil\n",
    "\n",
    "\n",
    "SIMILARITY_THRESHOLD = 85 \n",
    "\n",
    "def strip_non_bmp(text):\n",
    "    return ''.join(c for c in text if ord(c) <= 0xFFFF)\n"
   ]
  },
  {
   "cell_type": "code",
   "execution_count": null,
   "id": "e338cb96-6a6c-4e00-a1b1-17bcfc616090",
   "metadata": {},
   "outputs": [],
   "source": [
    "profile_path = \"/Users/ashhadulislam/automation-profile\"\n",
    "os.makedirs(profile_path, exist_ok=True)\n",
    "\n",
    "options = uc.ChromeOptions()\n",
    "options.add_argument(f\"--user-data-dir={profile_path}\")\n",
    "driver = uc.Chrome(options=options)\n",
    "driver.get(\"https://www.youtube.com\")"
   ]
  },
  {
   "cell_type": "code",
   "execution_count": null,
   "id": "8d06b7de-9f41-48e5-8c66-2db09b40f63f",
   "metadata": {},
   "outputs": [],
   "source": [
    "\n",
    "#time.sleep(10)  # wait for manual login if not using session\n",
    "\n",
    "response_dir = \"response_to_polarizing\"\n",
    "\n",
    "for file in os.listdir(response_dir)[1:]:\n",
    "    if not file.endswith(\".json\"):\n",
    "        continue\n",
    "\n",
    "    video_id = file.split('_')[0]\n",
    "    video_url = f\"https://www.youtube.com/watch?v={video_id}\"\n",
    "\n",
    "    with open(os.path.join(response_dir, file)) as f:\n",
    "        data = json.load(f)\n",
    "\n",
    "    polar_comment = data[\"polarizing_comment\"]\n",
    "    reply_text = data[\"balanced_response\"]\n",
    "\n",
    "    driver.get(video_url)\n",
    "    time.sleep(10)\n",
    "\n",
    "    # Scroll to load comments\n",
    "    driver.execute_script(\"window.scrollTo(0, 800);\")\n",
    "    time.sleep(5)\n",
    "\n",
    "    # Search for the polarizing comment\n",
    "    comments = driver.find_elements(By.ID, 'content-text')\n",
    "    target = None\n",
    "    best_score = 0\n",
    "    print(f'Looking for {polar_comment}')\n",
    "    for c in comments:\n",
    "        comment_text = c.text.strip()\n",
    "        score = fuzz.ratio(polar_comment.strip(), comment_text)\n",
    "        print(f'comment:{comment_text}, score: {score}')\n",
    "        if score > SIMILARITY_THRESHOLD and score > best_score:\n",
    "            target = c\n",
    "            best_score = score\n",
    "\n",
    "    \n",
    "    if target:\n",
    "        try:\n",
    "            # Scroll to the target comment\n",
    "            driver.execute_script(\"arguments[0].scrollIntoView({behavior: 'smooth', block: 'center'});\", target)\n",
    "            time.sleep(2)\n",
    "        \n",
    "            # Get the containing comment block\n",
    "            container = target.find_element(By.XPATH, \"./ancestor::ytd-comment-thread-renderer\")\n",
    "        \n",
    "            # Find the new reply button (based on your HTML)\n",
    "            reply_button = container.find_element(By.XPATH, \".//ytd-button-renderer[@id='reply-button-end']//button\")\n",
    "            reply_button.click()\n",
    "            time.sleep(2)\n",
    "        \n",
    "            # Wait and find the textbox\n",
    "            textbox = driver.find_element(By.ID, \"contenteditable-root\")\n",
    "            reply_text_clean = strip_non_bmp(reply_text)\n",
    "            textbox.send_keys(reply_text_clean)\n",
    "            time.sleep(1)\n",
    "        \n",
    "            # Click submit button\n",
    "            submit = driver.find_element(By.ID, \"submit-button\")\n",
    "            submit.click()\n",
    "            print(f\"✅ Replied to: {video_url}\")\n",
    "            # Move the file\n",
    "            shutil.move(os.path.join(response_dir, file), os.path.join(responded_dir, file))\n",
    "            print(f\"📦 Moved {file} to {responded_dir}\")\n",
    "\n",
    "        \n",
    "        except NoSuchElementException as e:\n",
    "            print(f\"⚠️ Couldn't find reply button for comment on {video_url}\")\n",
    "            print(e)\n",
    "        \n",
    "        except Exception as e:\n",
    "            print(f\"⚠️ Unexpected error for {video_url}\")\n",
    "            print(e)\n",
    "            \n",
    "    else:\n",
    "        print(f\"❌ Comment not found in: {video_url}\")\n",
    "    "
   ]
  },
  {
   "cell_type": "code",
   "execution_count": null,
   "id": "93555318-31ed-45fa-8b4d-39c76b8f5a26",
   "metadata": {},
   "outputs": [],
   "source": [
    "reply_text"
   ]
  },
  {
   "cell_type": "code",
   "execution_count": null,
   "id": "e5b584d1-64c3-4699-8692-61b264bb9100",
   "metadata": {},
   "outputs": [],
   "source": [
    "video_url"
   ]
  },
  {
   "cell_type": "code",
   "execution_count": null,
   "id": "72e418be-d463-43fa-b4a8-5f703a9f7c5c",
   "metadata": {},
   "outputs": [],
   "source": [
    "target"
   ]
  },
  {
   "cell_type": "code",
   "execution_count": null,
   "id": "062282bb-bce8-49f9-8e61-484945679040",
   "metadata": {},
   "outputs": [],
   "source": [
    "reply_button = target.find_element(By.XPATH, \"../../../..//ytd-button-renderer[@id='reply-button']\")"
   ]
  },
  {
   "cell_type": "code",
   "execution_count": null,
   "id": "269b8cb8-0b62-4719-84ad-fb54725e66f0",
   "metadata": {},
   "outputs": [],
   "source": []
  }
 ],
 "metadata": {
  "kernelspec": {
   "display_name": "py310k",
   "language": "python",
   "name": "py310k"
  },
  "language_info": {
   "codemirror_mode": {
    "name": "ipython",
    "version": 3
   },
   "file_extension": ".py",
   "mimetype": "text/x-python",
   "name": "python",
   "nbconvert_exporter": "python",
   "pygments_lexer": "ipython3",
   "version": "3.10.16"
  }
 },
 "nbformat": 4,
 "nbformat_minor": 5
}
