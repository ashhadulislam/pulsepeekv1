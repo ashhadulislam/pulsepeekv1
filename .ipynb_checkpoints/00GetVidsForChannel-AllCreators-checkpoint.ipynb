{
 "cells": [
  {
   "cell_type": "code",
   "execution_count": null,
   "id": "c6e85cbe-580a-49f1-8e5d-8f7fc3478f95",
   "metadata": {},
   "outputs": [],
   "source": []
  },
  {
   "cell_type": "code",
   "execution_count": null,
   "id": "5f85954a-c95a-4740-9778-16a424655e0c",
   "metadata": {},
   "outputs": [],
   "source": []
  },
  {
   "cell_type": "code",
   "execution_count": null,
   "id": "da96ffe3-f66b-4a80-9307-cdeffeb3f8cc",
   "metadata": {},
   "outputs": [],
   "source": [
    "import subprocess\n",
    "import json\n",
    "import pandas as pd\n",
    "import time\n",
    "import os\n",
    "\n",
    "num_urls = 2\n",
    "creators = [\n",
    "    '@smiletojannah',\n",
    "    '@thedeshbhakt',\n",
    "    '@MuslimSkeptic'\n",
    "]\n",
    "\n",
    "output_path = 'URLs/url_channel_id.csv'\n",
    "os.makedirs('URLs', exist_ok=True)\n",
    "\n",
    "# Load existing data if the file exists\n",
    "if os.path.exists(output_path):\n",
    "    existing_df = pd.read_csv(output_path)\n",
    "    existing_ids = set(existing_df['id'].astype(str))\n",
    "else:\n",
    "    existing_df = pd.DataFrame(columns=['creator_id', 'id', 'url', 'timestamp'])\n",
    "    existing_ids = set()\n",
    "\n",
    "# Prepare new data\n",
    "new_data = {\n",
    "    'creator_id': [],\n",
    "    'id': [],\n",
    "    'url': [],\n",
    "    'timestamp': []\n",
    "}\n",
    "\n",
    "for creator in creators:\n",
    "    channel_url = f\"https://www.youtube.com/{creator}\"  # or channel ID/URL\n",
    "\n",
    "    # Run yt-dlp to fetch JSON metadata\n",
    "    result = subprocess.run(\n",
    "        [\"yt-dlp\", \"--dump-json\", \"--flat-playlist\", \"--playlist-end\", str(num_urls), channel_url],\n",
    "        capture_output=True, text=True\n",
    "    )\n",
    "\n",
    "    # Parse each line\n",
    "    video_entries = [json.loads(line) for line in result.stdout.strip().split('\\n')]\n",
    "\n",
    "    now = str(time.time())\n",
    "    for entry in video_entries:\n",
    "        video_id = entry['id']\n",
    "        if video_id not in existing_ids:\n",
    "            new_data['creator_id'].append(creator)\n",
    "            new_data['id'].append(video_id)\n",
    "            new_data['url'].append(f\"https://www.youtube.com/watch?v={video_id}\")\n",
    "            new_data['timestamp'].append(now)\n",
    "            existing_ids.add(video_id)  # Mark as seen\n",
    "\n",
    "# Save if new data exists\n",
    "if new_data['id']:\n",
    "    new_df = pd.DataFrame(new_data)\n",
    "    combined_df = pd.concat([existing_df, new_df], ignore_index=True)\n",
    "    combined_df.to_csv(output_path, index=False)\n",
    "    print(f\"✅ Added {len(new_df)} new videos.\")\n",
    "else:\n",
    "    print(\"🔁 No new videos to add.\")"
   ]
  },
  {
   "cell_type": "code",
   "execution_count": null,
   "id": "3019d3d5-2b17-4217-90ca-f9a095c7aef7",
   "metadata": {},
   "outputs": [],
   "source": []
  },
  {
   "cell_type": "code",
   "execution_count": null,
   "id": "f7602341-3f65-4dc9-b76f-4bcc2bae50df",
   "metadata": {},
   "outputs": [],
   "source": []
  },
  {
   "cell_type": "code",
   "execution_count": null,
   "id": "da6c3454-2ba9-4eee-b4bc-247f12025b9a",
   "metadata": {},
   "outputs": [],
   "source": []
  },
  {
   "cell_type": "code",
   "execution_count": null,
   "id": "e4bde802-60b9-4789-89cc-a7531e7dd833",
   "metadata": {},
   "outputs": [],
   "source": []
  },
  {
   "cell_type": "code",
   "execution_count": null,
   "id": "64b2a283-e856-4db3-882b-f8d06ff39695",
   "metadata": {},
   "outputs": [],
   "source": []
  },
  {
   "cell_type": "code",
   "execution_count": null,
   "id": "34b66898-e2f8-4fde-ad5e-90bfe0d22641",
   "metadata": {},
   "outputs": [],
   "source": []
  }
 ],
 "metadata": {
  "kernelspec": {
   "display_name": "py310k",
   "language": "python",
   "name": "py310k"
  },
  "language_info": {
   "codemirror_mode": {
    "name": "ipython",
    "version": 3
   },
   "file_extension": ".py",
   "mimetype": "text/x-python",
   "name": "python",
   "nbconvert_exporter": "python",
   "pygments_lexer": "ipython3",
   "version": "3.10.16"
  }
 },
 "nbformat": 4,
 "nbformat_minor": 5
}
