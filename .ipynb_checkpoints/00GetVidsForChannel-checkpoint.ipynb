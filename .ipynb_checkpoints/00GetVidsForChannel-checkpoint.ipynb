{
 "cells": [
  {
   "cell_type": "code",
   "execution_count": 1,
   "id": "c6e85cbe-580a-49f1-8e5d-8f7fc3478f95",
   "metadata": {},
   "outputs": [],
   "source": [
    "import subprocess\n",
    "import json\n",
    "import pandas as pd\n"
   ]
  },
  {
   "cell_type": "code",
   "execution_count": null,
   "id": "da96ffe3-f66b-4a80-9307-cdeffeb3f8cc",
   "metadata": {},
   "outputs": [],
   "source": []
  },
  {
   "cell_type": "code",
   "execution_count": 2,
   "id": "a7b345c5-c887-4f3e-b70e-d8b3e06b56e7",
   "metadata": {},
   "outputs": [
    {
     "name": "stdout",
     "output_type": "stream",
     "text": [
      "https://www.youtube.com/watch?v=yzkkzt595WE\n",
      "https://www.youtube.com/watch?v=FfV434-TN7Q\n",
      "https://www.youtube.com/watch?v=g0QYWoh8hsM\n",
      "https://www.youtube.com/watch?v=7_5WdJlXKLo\n",
      "https://www.youtube.com/watch?v=pOIEdCZvbrQ\n",
      "https://www.youtube.com/watch?v=-VK7GF3bgnA\n",
      "https://www.youtube.com/watch?v=0UtHedAXIkA\n",
      "https://www.youtube.com/watch?v=7tqYgfhCwb4\n",
      "https://www.youtube.com/watch?v=1suta8hYDxo\n",
      "https://www.youtube.com/watch?v=Ojm4C0qwhMM\n",
      "https://www.youtube.com/watch?v=ItK0890LP-g\n",
      "https://www.youtube.com/watch?v=dIAMoGzeut0\n",
      "https://www.youtube.com/watch?v=feMoy5ioaeU\n",
      "https://www.youtube.com/watch?v=Slx5ZH5NZBM\n",
      "https://www.youtube.com/watch?v=aGkNouIMzFY\n",
      "https://www.youtube.com/watch?v=yn-IiJODZLc\n",
      "https://www.youtube.com/watch?v=cwOPw3fBMs4\n",
      "https://www.youtube.com/watch?v=JTcydTXWh6A\n",
      "https://www.youtube.com/watch?v=IsqAu9bt9tI\n",
      "https://www.youtube.com/watch?v=jGSm0wWxhxw\n",
      "https://www.youtube.com/watch?v=fdwsNbbrGbo\n",
      "https://www.youtube.com/watch?v=dYN_7AuX9mc\n",
      "https://www.youtube.com/watch?v=00NZ6m2oDHs\n",
      "https://www.youtube.com/watch?v=xXjkg4or8d0\n",
      "https://www.youtube.com/watch?v=Tfg53uwQK-Q\n",
      "https://www.youtube.com/watch?v=dRJZqdWHXeA\n",
      "https://www.youtube.com/watch?v=lDBDgMkhZtE\n",
      "https://www.youtube.com/watch?v=mXohKXpZqss\n",
      "https://www.youtube.com/watch?v=4lth2pImfaE\n",
      "https://www.youtube.com/watch?v=rWsg0NgJjjc\n",
      "https://www.youtube.com/watch?v=TLh2DXk149Q\n",
      "https://www.youtube.com/watch?v=v5sBssBzRcA\n",
      "https://www.youtube.com/watch?v=bWM4zjA2rQ8\n",
      "https://www.youtube.com/watch?v=-tJZffvpSYA\n",
      "https://www.youtube.com/watch?v=JlkaOMU0fqA\n"
     ]
    }
   ],
   "source": [
    "creator='@smiletojannah'\n",
    "channel_url = f\"https://www.youtube.com/{creator}\"  # or channel ID/URL\n",
    "\n",
    "# Run yt-dlp to fetch JSON metadata for the latest uploads\n",
    "result = subprocess.run(\n",
    "    [\"yt-dlp\", \"--dump-json\", \"--flat-playlist\", \"--playlist-end\", \"15\", channel_url],\n",
    "    capture_output=True, text=True\n",
    ")\n",
    "\n",
    "# Parse each line (each is a JSON object for a video)\n",
    "video_entries = [json.loads(line) for line in result.stdout.strip().split('\\n')]\n",
    "\n",
    "# Extract video URLs\n",
    "video_urls = [f\"https://www.youtube.com/watch?v={entry['id']}\" for entry in video_entries]\n",
    "\n",
    "for url in video_urls:\n",
    "    print(url)\n",
    "\n",
    "\n",
    "df=pd.DataFrame({\n",
    "    'urls':video_urls\n",
    "})    \n",
    "\n",
    "\n",
    "df.to_csv(f'URLs/{creator}.csv',index=False)"
   ]
  },
  {
   "cell_type": "code",
   "execution_count": null,
   "id": "e4bde802-60b9-4789-89cc-a7531e7dd833",
   "metadata": {},
   "outputs": [],
   "source": []
  },
  {
   "cell_type": "code",
   "execution_count": null,
   "id": "64b2a283-e856-4db3-882b-f8d06ff39695",
   "metadata": {},
   "outputs": [],
   "source": []
  },
  {
   "cell_type": "code",
   "execution_count": null,
   "id": "34b66898-e2f8-4fde-ad5e-90bfe0d22641",
   "metadata": {},
   "outputs": [],
   "source": []
  }
 ],
 "metadata": {
  "kernelspec": {
   "display_name": "py310k",
   "language": "python",
   "name": "py310k"
  },
  "language_info": {
   "codemirror_mode": {
    "name": "ipython",
    "version": 3
   },
   "file_extension": ".py",
   "mimetype": "text/x-python",
   "name": "python",
   "nbconvert_exporter": "python",
   "pygments_lexer": "ipython3",
   "version": "3.10.16"
  }
 },
 "nbformat": 4,
 "nbformat_minor": 5
}
