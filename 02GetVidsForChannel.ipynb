{
 "cells": [
  {
   "cell_type": "code",
   "execution_count": 4,
   "id": "c6e85cbe-580a-49f1-8e5d-8f7fc3478f95",
   "metadata": {},
   "outputs": [],
   "source": [
    "import subprocess\n",
    "import json\n",
    "import pandas as pd\n"
   ]
  },
  {
   "cell_type": "code",
   "execution_count": null,
   "id": "a7b345c5-c887-4f3e-b70e-d8b3e06b56e7",
   "metadata": {},
   "outputs": [],
   "source": [
    "creator='@smiletojannah'\n",
    "channel_url = f\"https://www.youtube.com/{creator}\"  # or channel ID/URL\n",
    "\n",
    "# Run yt-dlp to fetch JSON metadata for the latest uploads\n",
    "result = subprocess.run(\n",
    "    [\"yt-dlp\", \"--dump-json\", \"--flat-playlist\", \"--playlist-end\", \"15\", channel_url],\n",
    "    capture_output=True, text=True\n",
    ")\n",
    "\n",
    "# Parse each line (each is a JSON object for a video)\n",
    "video_entries = [json.loads(line) for line in result.stdout.strip().split('\\n')]\n",
    "\n",
    "# Extract video URLs\n",
    "video_urls = [f\"https://www.youtube.com/watch?v={entry['id']}\" for entry in video_entries]\n",
    "\n",
    "for url in video_urls:\n",
    "    print(url)\n",
    "\n",
    "\n",
    "df=pd.DataFrame({\n",
    "    'urls':video_urls\n",
    "})    \n",
    "\n",
    "\n",
    "df.to_csv(f'URLs/{creator}.csv',index=False)"
   ]
  },
  {
   "cell_type": "code",
   "execution_count": 5,
   "id": "e4bde802-60b9-4789-89cc-a7531e7dd833",
   "metadata": {},
   "outputs": [],
   "source": []
  },
  {
   "cell_type": "code",
   "execution_count": 7,
   "id": "64b2a283-e856-4db3-882b-f8d06ff39695",
   "metadata": {},
   "outputs": [],
   "source": []
  },
  {
   "cell_type": "code",
   "execution_count": null,
   "id": "34b66898-e2f8-4fde-ad5e-90bfe0d22641",
   "metadata": {},
   "outputs": [],
   "source": []
  }
 ],
 "metadata": {
  "kernelspec": {
   "display_name": "py310k",
   "language": "python",
   "name": "py310k"
  },
  "language_info": {
   "codemirror_mode": {
    "name": "ipython",
    "version": 3
   },
   "file_extension": ".py",
   "mimetype": "text/x-python",
   "name": "python",
   "nbconvert_exporter": "python",
   "pygments_lexer": "ipython3",
   "version": "3.10.16"
  }
 },
 "nbformat": 4,
 "nbformat_minor": 5
}
