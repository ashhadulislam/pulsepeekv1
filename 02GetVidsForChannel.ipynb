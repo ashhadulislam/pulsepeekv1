{
 "cells": [
  {
   "cell_type": "code",
   "execution_count": 2,
   "id": "c6e85cbe-580a-49f1-8e5d-8f7fc3478f95",
   "metadata": {},
   "outputs": [
    {
     "name": "stdout",
     "output_type": "stream",
     "text": [
      "https://www.youtube.com/watch?v=0UtHedAXIkA\n",
      "https://www.youtube.com/watch?v=7tqYgfhCwb4\n",
      "https://www.youtube.com/watch?v=1suta8hYDxo\n",
      "https://www.youtube.com/watch?v=Ojm4C0qwhMM\n",
      "https://www.youtube.com/watch?v=ItK0890LP-g\n",
      "https://www.youtube.com/watch?v=dIAMoGzeut0\n",
      "https://www.youtube.com/watch?v=feMoy5ioaeU\n",
      "https://www.youtube.com/watch?v=Slx5ZH5NZBM\n",
      "https://www.youtube.com/watch?v=aGkNouIMzFY\n",
      "https://www.youtube.com/watch?v=4XaMJrS9DvY\n",
      "https://www.youtube.com/watch?v=6xhUFLlG_58\n",
      "https://www.youtube.com/watch?v=x84vLClrXHw\n",
      "https://www.youtube.com/watch?v=YpZnd1xmP_4\n",
      "https://www.youtube.com/watch?v=irE6mn-dDZk\n",
      "https://www.youtube.com/watch?v=RPd-Buti7gk\n",
      "https://www.youtube.com/watch?v=yn-IiJODZLc\n",
      "https://www.youtube.com/watch?v=cwOPw3fBMs4\n",
      "https://www.youtube.com/watch?v=JTcydTXWh6A\n",
      "https://www.youtube.com/watch?v=IsqAu9bt9tI\n",
      "https://www.youtube.com/watch?v=jGSm0wWxhxw\n",
      "https://www.youtube.com/watch?v=lDBDgMkhZtE\n",
      "https://www.youtube.com/watch?v=mXohKXpZqss\n",
      "https://www.youtube.com/watch?v=4lth2pImfaE\n",
      "https://www.youtube.com/watch?v=rWsg0NgJjjc\n",
      "https://www.youtube.com/watch?v=TLh2DXk149Q\n",
      "https://www.youtube.com/watch?v=v5sBssBzRcA\n",
      "https://www.youtube.com/watch?v=bWM4zjA2rQ8\n",
      "https://www.youtube.com/watch?v=-tJZffvpSYA\n",
      "https://www.youtube.com/watch?v=JlkaOMU0fqA\n",
      "https://www.youtube.com/watch?v=eLy6EayLUG4\n",
      "https://www.youtube.com/watch?v=dXlSmWppK28\n",
      "https://www.youtube.com/watch?v=spMkR6x3SyU\n",
      "https://www.youtube.com/watch?v=hYxIssnzbC4\n",
      "https://www.youtube.com/watch?v=O5fsrS6fGCY\n",
      "https://www.youtube.com/watch?v=at1F2OmA154\n"
     ]
    }
   ],
   "source": [
    "import subprocess\n",
    "import json\n",
    "\n",
    "creator='@smiletojannah'\n",
    "channel_url = f\"https://www.youtube.com/{creator}\"  # or channel ID/URL\n",
    "\n",
    "# Run yt-dlp to fetch JSON metadata for the latest uploads\n",
    "result = subprocess.run(\n",
    "    [\"yt-dlp\", \"--dump-json\", \"--flat-playlist\", \"--playlist-end\", \"15\", channel_url],\n",
    "    capture_output=True, text=True\n",
    ")\n",
    "\n",
    "# Parse each line (each is a JSON object for a video)\n",
    "video_entries = [json.loads(line) for line in result.stdout.strip().split('\\n')]\n",
    "\n",
    "# Extract video URLs\n",
    "video_urls = [f\"https://www.youtube.com/watch?v={entry['id']}\" for entry in video_entries]\n",
    "\n",
    "for url in video_urls:\n",
    "    print(url)"
   ]
  },
  {
   "cell_type": "code",
   "execution_count": null,
   "id": "a7b345c5-c887-4f3e-b70e-d8b3e06b56e7",
   "metadata": {},
   "outputs": [],
   "source": []
  }
 ],
 "metadata": {
  "kernelspec": {
   "display_name": "py310k",
   "language": "python",
   "name": "py310k"
  },
  "language_info": {
   "codemirror_mode": {
    "name": "ipython",
    "version": 3
   },
   "file_extension": ".py",
   "mimetype": "text/x-python",
   "name": "python",
   "nbconvert_exporter": "python",
   "pygments_lexer": "ipython3",
   "version": "3.10.16"
  }
 },
 "nbformat": 4,
 "nbformat_minor": 5
}
